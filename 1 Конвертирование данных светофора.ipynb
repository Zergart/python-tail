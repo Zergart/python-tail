{
 "cells": [
  {
   "cell_type": "markdown",
   "id": "56d587db",
   "metadata": {},
   "source": [
    "# Конвертер фин данных"
   ]
  },
  {
   "cell_type": "code",
   "execution_count": 1,
   "id": "aa60c56d",
   "metadata": {},
   "outputs": [],
   "source": [
    "import numpy as np\n",
    "import pandas as pd"
   ]
  },
  {
   "cell_type": "code",
   "execution_count": 2,
   "id": "38c01d5c",
   "metadata": {},
   "outputs": [],
   "source": [
    "path = r'C:\\Users\\admin\\Jupyter project\\1 Project NN\\1 Данные сырые\\Сырые данные светофор.csv'\n",
    "df = pd.read_csv(path, sep=';', decimal=',')\n",
    "df.columns = [c.replace(' (NEW)', '') for c in df.columns]\n",
    "df['kind'] = 'светофор'\n",
    "df['name'] = df['Name']\n",
    "df['id'] = df['ИНН']"
   ]
  },
  {
   "cell_type": "markdown",
   "id": "6d8aefd9",
   "metadata": {},
   "source": [
    "## Баланс"
   ]
  },
  {
   "cell_type": "code",
   "execution_count": 3,
   "id": "708cb6bc",
   "metadata": {},
   "outputs": [],
   "source": [
    "# краткосрочные активы\n",
    "df['1000'] = (df['BS.330'] + df['BS.340'] + df['BS.350'] + df['BS.360'])\n",
    "df['1100'] = (df['BS.370'])\n",
    "df['1200'] = (df['BS.220'] + df['BS.230'] + df['BS.240'] + df['BS.310'])\n",
    "df['1300'] = (df['BS.150'] + df['BS.160'] + df['BS.170'] + df['BS.180'])\n",
    "df['1400'] = (df['BS.270'] + df['BS.280'])\n",
    "df['1500'] = 0\n",
    "df['1600'] = 0\n",
    "df['1700'] = (\n",
    "    df['BS.250'] + df['BS.260'] + df['BS.190'] + df['BS.200'] + \n",
    "    df['BS.290'] + df['BS.300'] + df['BS.380']\n",
    ")\n",
    "\n",
    "# долгосрочные активы\n",
    "df['2000'] = df['BS.40']\n",
    "df['2100'] = df['BS.110']\n",
    "df['2200'] = (df['BS.50'] + df['BS.60'] + df['BS.70'] + df['BS.80'])\n",
    "df['2300'] = 0\n",
    "df['2400'] = (df['BS.10'] - df['BS.11'] + df['BS.90'] + df['BS.100'])\n",
    "df['2500'] = 0\n",
    "df['2600'] = 0\n",
    "df['2700'] = (df['BS.20'] + df['BS.21'])\n",
    "df['2800'] = 0\n",
    "df['2900'] = (df['BS.120'])\n",
    "\n",
    "# краткосрочные обязательства\n",
    "df['3000'] = (df['BS.730'] + df['BS.740'])\n",
    "df['3100'] = (df['BS.650'])\n",
    "df['3200'] = (df['BS.680'] + df['BS.690'] + df['BS.700'])\n",
    "df['3300'] = (df['BS.610'] + df['BS.630'] + df['BS.620'] + df['BS.720'] + \n",
    "              df['BS.750'] + df['BS.710'])\n",
    "df['3400'] = 0\n",
    "df['3500'] = (df['BS.670'] + df['BS.760'])\n",
    "\n",
    "# долгосрочные обязательства\n",
    "df['4000'] = (df['BS.570'] + df['BS.580'])\n",
    "df['4100'] = (df['BS.500'] + df['BS.520'] + df['BS.510'])\n",
    "df['4200'] = 0\n",
    "df['4300'] = (df['BS.540'])\n",
    "df['4400'] = (df['BS.560'] + df['BS.530'] + df['BS.550'] + df['BS.590'])\n",
    "\n",
    "# собственный капитал\n",
    "df['5000'] = (df['BS.410'])\n",
    "df['5100'] = (df['BS.420'])\n",
    "df['5200'] = (df['BS.440'])\n",
    "df['5300'] = (df['BS.460'])\n",
    "df['5400'] = 0\n",
    "df['5500'] = (df['BS.430'] + df['BS.470'])\n",
    "df['5600'] = (df['BS.450'])\n",
    "df['5700'] = 0"
   ]
  },
  {
   "cell_type": "markdown",
   "id": "643a1ace",
   "metadata": {},
   "source": [
    "## Отчет о прибылях и убытка"
   ]
  },
  {
   "cell_type": "code",
   "execution_count": 4,
   "id": "790265ab",
   "metadata": {},
   "outputs": [],
   "source": [
    "# поступления\n",
    "df['6000'] = df['PNL.10']\n",
    "df['6100'] = (df['PNL.120'] + df['PNL.130'] + df['PNL.140'] + df['PNL.150'] + df['PNL.160'])\n",
    "df['6200'] = df['PNL.90']\n",
    "df['6300'] = 0\n",
    "df['6400'] = 0\n",
    "\n",
    "# выбытия\n",
    "df['7000'] = df['PNL.20']\n",
    "df['7100'] = df['PNL.50']\n",
    "df['7200'] = df['PNL.60']\n",
    "df['7300'] = (df['PNL.180'] + df['PNL.190'] + df['PNL.200'] + df['PNL.210'])\n",
    "df['7400'] = (df['PNL.70'] + df['PNL.230'])\n",
    "df['7500'] = 0\n",
    "df['7600'] = 0\n",
    "df['7700'] = (df['PNL.250'] + df['PNL.260'])\n",
    "\n",
    "# дополнительные показатели\n",
    "df['9100'] = 0\n",
    "df['9200'] = 0\n",
    "df['9300'] = 0\n",
    "df['9400'] = 0\n",
    "df['9500'] = 0"
   ]
  },
  {
   "cell_type": "code",
   "execution_count": 5,
   "id": "e7204521",
   "metadata": {},
   "outputs": [],
   "source": [
    "columns_select = [\n",
    "    'Макс просрочка', 'kind', 'name', 'id', \n",
    "    '1000', '1100', '1200', '1300', '1400', '1500', '1600', '1700', \n",
    "    '2000', '2100', '2200', '2300', '2400', '2500', '2600', '2700', '2800', '2900', \n",
    "    '3000', '3100', '3200', '3300', '3400', '3500', \n",
    "    '4000', '4100', '4200', '4300', '4400', \n",
    "    '5000', '5100', '5200', '5300', '5400', '5500', '5600', '5700', \n",
    "    '6000', '6100', '6200', '6300', '6400', \n",
    "    '7000', '7100', '7200', '7300', '7400', '7500', '7600', '7700', \n",
    "    '9100', '9200', '9300', '9400', '9500'\n",
    "]"
   ]
  },
  {
   "cell_type": "code",
   "execution_count": 6,
   "id": "c3e86a5d",
   "metadata": {},
   "outputs": [],
   "source": [
    "output = df[columns_select]"
   ]
  },
  {
   "cell_type": "code",
   "execution_count": 7,
   "id": "f77553b7",
   "metadata": {},
   "outputs": [],
   "source": [
    "output.to_excel(r'C:\\Users\\admin\\Jupyter project\\1 Project NN\\2 Данные конвертированные\\Конвертированные данные светофор.xlsx', index=False)"
   ]
  }
 ],
 "metadata": {
  "celltoolbar": "Отсутствует",
  "kernelspec": {
   "display_name": "Python 3 (ipykernel)",
   "language": "python",
   "name": "python3"
  },
  "language_info": {
   "codemirror_mode": {
    "name": "ipython",
    "version": 3
   },
   "file_extension": ".py",
   "mimetype": "text/x-python",
   "name": "python",
   "nbconvert_exporter": "python",
   "pygments_lexer": "ipython3",
   "version": "3.9.7"
  }
 },
 "nbformat": 4,
 "nbformat_minor": 5
}
