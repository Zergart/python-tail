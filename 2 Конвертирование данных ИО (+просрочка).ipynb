{
 "cells": [
  {
   "cell_type": "markdown",
   "id": "56d587db",
   "metadata": {},
   "source": [
    "# Конвертер фин данных"
   ]
  },
  {
   "cell_type": "code",
   "execution_count": 1,
   "id": "aa60c56d",
   "metadata": {},
   "outputs": [],
   "source": [
    "import numpy as np\n",
    "import pandas as pd\n",
    "import os"
   ]
  },
  {
   "cell_type": "code",
   "execution_count": 2,
   "id": "eb138242",
   "metadata": {},
   "outputs": [],
   "source": [
    "path = os.getcwd()+r'\\1 Данные сырые\\Сырые данные ИО.csv'\n",
    "df = pd.read_csv(path, sep=';', decimal=',')"
   ]
  },
  {
   "cell_type": "code",
   "execution_count": 3,
   "id": "5d89eb0b",
   "metadata": {},
   "outputs": [],
   "source": [
    "list_of_columns = [\n",
    "    '2. Краткосрочные активы: ', '3. Денежные средства и их эквиваленты',\n",
    "    '4. Финансовые активы, имеющиеся в наличии для продажи',\n",
    "    '5. Производные финансовые инструменты',\n",
    "    '6. Финансовые активы, учитываемые по справедливой стоимости через прибыли и убытки',\n",
    "    '7. Финансовые активы, удерживаемые до погашения',\n",
    "    '8. Прочие краткосрочные финансовые активы',\n",
    "    '9. Краткосрочная торговая и прочая дебиторская задолженность',\n",
    "    '10. Текущий подоходный налог ', '11. Запасы',\n",
    "    '12. Прочие краткосрочные активы',\n",
    "    '13. Активы (или выбывающие группы), предназначенные для продажи',\n",
    "    '14. Долгосрочные активы:',\n",
    "    '15. Финансовые активы, имеющиеся в наличии для продажи',\n",
    "    '16. Производные финансовые инструменты',\n",
    "    '17. Финансовые активы, учитываемые по справедливой стоимости через прибыли и убытки',\n",
    "    '18. Финансовые активы, удерживаемые до погашения',\n",
    "    '19. Прочие долгосрочные финансовые активы',\n",
    "    '20. Долгосрочная торговая и прочая дебиторская задолженность',\n",
    "    '21. Инвестиции, учитываемые методом долевого участия',\n",
    "    '22. Инвестиционное имущество', '23. Основные средства',\n",
    "    '24. Биологические активы', '25. Разведочные и оценочные активы',\n",
    "    '26. Нематериальные активы', '27. Отложенные налоговые активы',\n",
    "    '28. Прочие долгосрочные активы', '29. Баланс', '30. empty',\n",
    "    '31. Обязательство и капитал', '32. Краткосрочные обязательства:',\n",
    "    '33. Займы', '34. в т.ч. Займы в АО Цеснабанк',\n",
    "    '35. Производные финансовые инструменты',\n",
    "    '36. Прочие краткосрочные финансовые обязательства',\n",
    "    '37. Краткосрочная торговая и прочая кредиторская задолженность',\n",
    "    '38. Краткосрочные резервы',\n",
    "    '39. Текущие налоговые обязательства по подоходному налогу ',\n",
    "    '40. Вознаграждения работникам',\n",
    "    '41. Прочие краткосрочные обязательства',\n",
    "    '42. Обязательства выбывающих групп, предназначенных для продажи',\n",
    "    '43. Долгосрочные обязательства:', '44. Займы',\n",
    "    '45. в т.ч. Займы в АО Цеснабанк',\n",
    "    '46. Производные финансовые инструменты',\n",
    "    '47. Прочие долгосрочные финансовые обязательства',\n",
    "    '48. Долгосрочная торговая и прочая кредиторская задолженность',\n",
    "    '49. Долгосрочные резервы', '50. Отложенные налоговые обязательства',\n",
    "    '51. Прочие долгосрочные обязательства', '52. Капитал:',\n",
    "    '53. Уставный (акционерный) капитал', '54. Эмиссионный доход',\n",
    "    '55. Выкупленные собственные долевые инструменты', '56. Резервы',\n",
    "    '57. Нераспределенная прибыль (непокрытый убыток)',\n",
    "    '58. Итого капитал, относимый на собственников материнской организации',\n",
    "    '59. Доля неконтролирующих собственников', '60. Баланс', '61. empty',\n",
    "    '62. ОПиУ', '63. Выручка ',\n",
    "    '64. Себестоимость реализованных товаров и услуг ',\n",
    "    '65. Валовая прибыль', '66. Расходы по реализации ',\n",
    "    '67. Административные расходы ', '68. Прочие расходы ',\n",
    "    '69. Прочие доходы', '70. Итого операционная прибыль',\n",
    "    '71. Доходы по финансированию', '72. Расходы по финансированию',\n",
    "    '73. Доля организации в прибыли (убытке) ассоциированных организаций и совместной деятельности, учитываемых по методу долевого участия',\n",
    "    '74. Прочие неоперационные доходы',\n",
    "    '75. Прочие неоперационные расходы ',\n",
    "    '76. Прибыль (убыток) до налогообложения',\n",
    "    '77. Расходы по подоходному налогу',\n",
    "    '78. Прибыль (убыток) после налогообложения от продолжающейся деятельности',\n",
    "    '79. Прибыль (убыток) после налогообложения от прекращенной деятельности ',\n",
    "    '80. Прибыль за период', '81. Размер амортизации в расходной части'\n",
    "]"
   ]
  },
  {
   "cell_type": "code",
   "execution_count": 4,
   "id": "4efe3788",
   "metadata": {
    "scrolled": true
   },
   "outputs": [],
   "source": [
    "for i in df[list_of_columns]:\n",
    "    df[i] = pd.to_numeric(df[i], errors='coerce')\n",
    "    df[i] = df[i].fillna(0)"
   ]
  },
  {
   "cell_type": "code",
   "execution_count": 5,
   "id": "a099d70b",
   "metadata": {},
   "outputs": [],
   "source": [
    "df['kind'] = 'ИО'\n",
    "df['name'] = df['5. Наименование заемщика']\n",
    "df['date'] = df['1. Активы']\n",
    "df['id_raw'] = df['6. ИИН/БИН заемщика']"
   ]
  },
  {
   "cell_type": "markdown",
   "id": "732145ba",
   "metadata": {},
   "source": [
    "## Баланс"
   ]
  },
  {
   "cell_type": "code",
   "execution_count": 6,
   "id": "ddec5d79",
   "metadata": {
    "scrolled": true
   },
   "outputs": [
    {
     "name": "stderr",
     "output_type": "stream",
     "text": [
      "C:\\Users\\User\\AppData\\Local\\Temp\\ipykernel_3340\\1314502802.py:33: PerformanceWarning: DataFrame is highly fragmented.  This is usually the result of calling `frame.insert` many times, which has poor performance.  Consider joining all columns at once using pd.concat(axis=1) instead. To get a de-fragmented frame, use `newframe = frame.copy()`\n",
      "  df['2700'] = df['26. Нематериальные активы']\n",
      "C:\\Users\\User\\AppData\\Local\\Temp\\ipykernel_3340\\1314502802.py:34: PerformanceWarning: DataFrame is highly fragmented.  This is usually the result of calling `frame.insert` many times, which has poor performance.  Consider joining all columns at once using pd.concat(axis=1) instead. To get a de-fragmented frame, use `newframe = frame.copy()`\n",
      "  df['2800'] = df['27. Отложенные налоговые активы']\n",
      "C:\\Users\\User\\AppData\\Local\\Temp\\ipykernel_3340\\1314502802.py:35: PerformanceWarning: DataFrame is highly fragmented.  This is usually the result of calling `frame.insert` many times, which has poor performance.  Consider joining all columns at once using pd.concat(axis=1) instead. To get a de-fragmented frame, use `newframe = frame.copy()`\n",
      "  df['2900'] = df['28. Прочие долгосрочные активы']\n",
      "C:\\Users\\User\\AppData\\Local\\Temp\\ipykernel_3340\\1314502802.py:38: PerformanceWarning: DataFrame is highly fragmented.  This is usually the result of calling `frame.insert` many times, which has poor performance.  Consider joining all columns at once using pd.concat(axis=1) instead. To get a de-fragmented frame, use `newframe = frame.copy()`\n",
      "  df['3000'] = (\n",
      "C:\\Users\\User\\AppData\\Local\\Temp\\ipykernel_3340\\1314502802.py:43: PerformanceWarning: DataFrame is highly fragmented.  This is usually the result of calling `frame.insert` many times, which has poor performance.  Consider joining all columns at once using pd.concat(axis=1) instead. To get a de-fragmented frame, use `newframe = frame.copy()`\n",
      "  df['3100'] = df['39. Текущие налоговые обязательства по подоходному налогу ']\n",
      "C:\\Users\\User\\AppData\\Local\\Temp\\ipykernel_3340\\1314502802.py:44: PerformanceWarning: DataFrame is highly fragmented.  This is usually the result of calling `frame.insert` many times, which has poor performance.  Consider joining all columns at once using pd.concat(axis=1) instead. To get a de-fragmented frame, use `newframe = frame.copy()`\n",
      "  df['3200'] = df['37. Краткосрочная торговая и прочая кредиторская задолженность']\n",
      "C:\\Users\\User\\AppData\\Local\\Temp\\ipykernel_3340\\1314502802.py:45: PerformanceWarning: DataFrame is highly fragmented.  This is usually the result of calling `frame.insert` many times, which has poor performance.  Consider joining all columns at once using pd.concat(axis=1) instead. To get a de-fragmented frame, use `newframe = frame.copy()`\n",
      "  df['3400'] = df['38. Краткосрочные резервы']\n",
      "C:\\Users\\User\\AppData\\Local\\Temp\\ipykernel_3340\\1314502802.py:46: PerformanceWarning: DataFrame is highly fragmented.  This is usually the result of calling `frame.insert` many times, which has poor performance.  Consider joining all columns at once using pd.concat(axis=1) instead. To get a de-fragmented frame, use `newframe = frame.copy()`\n",
      "  df['3500'] = (\n",
      "C:\\Users\\User\\AppData\\Local\\Temp\\ipykernel_3340\\1314502802.py:53: PerformanceWarning: DataFrame is highly fragmented.  This is usually the result of calling `frame.insert` many times, which has poor performance.  Consider joining all columns at once using pd.concat(axis=1) instead. To get a de-fragmented frame, use `newframe = frame.copy()`\n",
      "  df['4000'] = (\n",
      "C:\\Users\\User\\AppData\\Local\\Temp\\ipykernel_3340\\1314502802.py:58: PerformanceWarning: DataFrame is highly fragmented.  This is usually the result of calling `frame.insert` many times, which has poor performance.  Consider joining all columns at once using pd.concat(axis=1) instead. To get a de-fragmented frame, use `newframe = frame.copy()`\n",
      "  df['4100'] = df['48. Долгосрочная торговая и прочая кредиторская задолженность']\n",
      "C:\\Users\\User\\AppData\\Local\\Temp\\ipykernel_3340\\1314502802.py:59: PerformanceWarning: DataFrame is highly fragmented.  This is usually the result of calling `frame.insert` many times, which has poor performance.  Consider joining all columns at once using pd.concat(axis=1) instead. To get a de-fragmented frame, use `newframe = frame.copy()`\n",
      "  df['4200'] = df['49. Долгосрочные резервы']\n",
      "C:\\Users\\User\\AppData\\Local\\Temp\\ipykernel_3340\\1314502802.py:60: PerformanceWarning: DataFrame is highly fragmented.  This is usually the result of calling `frame.insert` many times, which has poor performance.  Consider joining all columns at once using pd.concat(axis=1) instead. To get a de-fragmented frame, use `newframe = frame.copy()`\n",
      "  df['4300'] = df['50. Отложенные налоговые обязательства']\n",
      "C:\\Users\\User\\AppData\\Local\\Temp\\ipykernel_3340\\1314502802.py:61: PerformanceWarning: DataFrame is highly fragmented.  This is usually the result of calling `frame.insert` many times, which has poor performance.  Consider joining all columns at once using pd.concat(axis=1) instead. To get a de-fragmented frame, use `newframe = frame.copy()`\n",
      "  df['4400'] = df['51. Прочие долгосрочные обязательства']\n",
      "C:\\Users\\User\\AppData\\Local\\Temp\\ipykernel_3340\\1314502802.py:64: PerformanceWarning: DataFrame is highly fragmented.  This is usually the result of calling `frame.insert` many times, which has poor performance.  Consider joining all columns at once using pd.concat(axis=1) instead. To get a de-fragmented frame, use `newframe = frame.copy()`\n",
      "  df['5000'] = df['53. Уставный (акционерный) капитал']\n",
      "C:\\Users\\User\\AppData\\Local\\Temp\\ipykernel_3340\\1314502802.py:65: PerformanceWarning: DataFrame is highly fragmented.  This is usually the result of calling `frame.insert` many times, which has poor performance.  Consider joining all columns at once using pd.concat(axis=1) instead. To get a de-fragmented frame, use `newframe = frame.copy()`\n",
      "  df['5100'] = df['59. Доля неконтролирующих собственников']\n",
      "C:\\Users\\User\\AppData\\Local\\Temp\\ipykernel_3340\\1314502802.py:66: PerformanceWarning: DataFrame is highly fragmented.  This is usually the result of calling `frame.insert` many times, which has poor performance.  Consider joining all columns at once using pd.concat(axis=1) instead. To get a de-fragmented frame, use `newframe = frame.copy()`\n",
      "  df['5200'] = df['55. Выкупленные собственные долевые инструменты']\n",
      "C:\\Users\\User\\AppData\\Local\\Temp\\ipykernel_3340\\1314502802.py:67: PerformanceWarning: DataFrame is highly fragmented.  This is usually the result of calling `frame.insert` many times, which has poor performance.  Consider joining all columns at once using pd.concat(axis=1) instead. To get a de-fragmented frame, use `newframe = frame.copy()`\n",
      "  df['5300'] = df['54. Эмиссионный доход']\n",
      "C:\\Users\\User\\AppData\\Local\\Temp\\ipykernel_3340\\1314502802.py:68: PerformanceWarning: DataFrame is highly fragmented.  This is usually the result of calling `frame.insert` many times, which has poor performance.  Consider joining all columns at once using pd.concat(axis=1) instead. To get a de-fragmented frame, use `newframe = frame.copy()`\n",
      "  df['5500'] = df['56. Резервы']\n",
      "C:\\Users\\User\\AppData\\Local\\Temp\\ipykernel_3340\\1314502802.py:69: PerformanceWarning: DataFrame is highly fragmented.  This is usually the result of calling `frame.insert` many times, which has poor performance.  Consider joining all columns at once using pd.concat(axis=1) instead. To get a de-fragmented frame, use `newframe = frame.copy()`\n",
      "  df['5600'] = df['57. Нераспределенная прибыль (непокрытый убыток)']\n"
     ]
    }
   ],
   "source": [
    "# краткосрочные активы\n",
    "df['1000'] = df['3. Денежные средства и их эквиваленты']\n",
    "\n",
    "df['1100'] = (\n",
    "    df['4. Финансовые активы, имеющиеся в наличии для продажи'] + \n",
    "    df['5. Производные финансовые инструменты'] + \n",
    "    df['6. Финансовые активы, учитываемые по справедливой стоимости через прибыли и убытки'] + \n",
    "    df['7. Финансовые активы, удерживаемые до погашения'] + \n",
    "    df['8. Прочие краткосрочные финансовые активы']\n",
    ")\n",
    "df['1200'] = df['9. Краткосрочная торговая и прочая дебиторская задолженность']\n",
    "df['1300'] = df['11. Запасы']\n",
    "df['1400'] = df['10. Текущий подоходный налог ']\n",
    "df['1700'] = (\n",
    "    df['12. Прочие краткосрочные активы'] + \n",
    "    df['13. Активы (или выбывающие группы), предназначенные для продажи']\n",
    ")\n",
    "\n",
    "# долгосрочные активы\n",
    "df['2000'] = (\n",
    "    df['15. Финансовые активы, имеющиеся в наличии для продажи'] +\n",
    "    df['16. Производные финансовые инструменты'] +\n",
    "    df['17. Финансовые активы, учитываемые по справедливой стоимости через прибыли и убытки'] +\n",
    "    df['18. Финансовые активы, удерживаемые до погашения'] +\n",
    "    df['19. Прочие долгосрочные финансовые активы']\n",
    ")\n",
    "df['2100'] = df['20. Долгосрочная торговая и прочая дебиторская задолженность']\n",
    "df['2200'] = df['21. Инвестиции, учитываемые методом долевого участия']\n",
    "df['2300'] = df['22. Инвестиционное имущество']\n",
    "df['2400'] = df['23. Основные средства']\n",
    "df['2500'] = df['24. Биологические активы']\n",
    "df['2600'] = df['25. Разведочные и оценочные активы']\n",
    "df['2700'] = df['26. Нематериальные активы']\n",
    "df['2800'] = df['27. Отложенные налоговые активы']\n",
    "df['2900'] = df['28. Прочие долгосрочные активы']\n",
    "\n",
    "# краткосрочные обязательства\n",
    "df['3000'] = (\n",
    "    df['33. Займы'] + \n",
    "    df['35. Производные финансовые инструменты'] + \n",
    "    df['36. Прочие краткосрочные финансовые обязательства']\n",
    ")\n",
    "df['3100'] = df['39. Текущие налоговые обязательства по подоходному налогу ']\n",
    "df['3200'] = df['37. Краткосрочная торговая и прочая кредиторская задолженность']\n",
    "df['3400'] = df['38. Краткосрочные резервы']\n",
    "df['3500'] = (\n",
    "    df['40. Вознаграждения работникам'] + \n",
    "    df['41. Прочие краткосрочные обязательства'] +\n",
    "    df['42. Обязательства выбывающих групп, предназначенных для продажи']\n",
    ")\n",
    "\n",
    "# долгосрочные обязательства\n",
    "df['4000'] = (\n",
    "    df['44. Займы'] + \n",
    "    df['46. Производные финансовые инструменты'] + \n",
    "    df['47. Прочие долгосрочные финансовые обязательства']\n",
    ")\n",
    "df['4100'] = df['48. Долгосрочная торговая и прочая кредиторская задолженность']\n",
    "df['4200'] = df['49. Долгосрочные резервы']\n",
    "df['4300'] = df['50. Отложенные налоговые обязательства']\n",
    "df['4400'] = df['51. Прочие долгосрочные обязательства']\n",
    "\n",
    "# собственный капитал\n",
    "df['5000'] = df['53. Уставный (акционерный) капитал']\n",
    "df['5100'] = df['59. Доля неконтролирующих собственников']\n",
    "df['5200'] = df['55. Выкупленные собственные долевые инструменты']\n",
    "df['5300'] = df['54. Эмиссионный доход']\n",
    "df['5500'] = df['56. Резервы']\n",
    "df['5600'] = df['57. Нераспределенная прибыль (непокрытый убыток)']"
   ]
  },
  {
   "cell_type": "markdown",
   "id": "06ede242",
   "metadata": {},
   "source": [
    "## ОПиУ"
   ]
  },
  {
   "cell_type": "code",
   "execution_count": 7,
   "id": "e752ba49",
   "metadata": {
    "scrolled": true
   },
   "outputs": [
    {
     "name": "stderr",
     "output_type": "stream",
     "text": [
      "C:\\Users\\User\\AppData\\Local\\Temp\\ipykernel_3340\\4141464080.py:1: PerformanceWarning: DataFrame is highly fragmented.  This is usually the result of calling `frame.insert` many times, which has poor performance.  Consider joining all columns at once using pd.concat(axis=1) instead. To get a de-fragmented frame, use `newframe = frame.copy()`\n",
      "  df['6000'] = df['63. Выручка ']\n",
      "C:\\Users\\User\\AppData\\Local\\Temp\\ipykernel_3340\\4141464080.py:2: PerformanceWarning: DataFrame is highly fragmented.  This is usually the result of calling `frame.insert` many times, which has poor performance.  Consider joining all columns at once using pd.concat(axis=1) instead. To get a de-fragmented frame, use `newframe = frame.copy()`\n",
      "  df['6100'] = df['71. Доходы по финансированию']\n",
      "C:\\Users\\User\\AppData\\Local\\Temp\\ipykernel_3340\\4141464080.py:3: PerformanceWarning: DataFrame is highly fragmented.  This is usually the result of calling `frame.insert` many times, which has poor performance.  Consider joining all columns at once using pd.concat(axis=1) instead. To get a de-fragmented frame, use `newframe = frame.copy()`\n",
      "  df['6200'] = df['74. Прочие неоперационные доходы']\n",
      "C:\\Users\\User\\AppData\\Local\\Temp\\ipykernel_3340\\4141464080.py:4: PerformanceWarning: DataFrame is highly fragmented.  This is usually the result of calling `frame.insert` many times, which has poor performance.  Consider joining all columns at once using pd.concat(axis=1) instead. To get a de-fragmented frame, use `newframe = frame.copy()`\n",
      "  df['6300'] = df['79. Прибыль (убыток) после налогообложения от прекращенной деятельности ']\n",
      "C:\\Users\\User\\AppData\\Local\\Temp\\ipykernel_3340\\4141464080.py:5: PerformanceWarning: DataFrame is highly fragmented.  This is usually the result of calling `frame.insert` many times, which has poor performance.  Consider joining all columns at once using pd.concat(axis=1) instead. To get a de-fragmented frame, use `newframe = frame.copy()`\n",
      "  df['7000'] = df['64. Себестоимость реализованных товаров и услуг ']\n",
      "C:\\Users\\User\\AppData\\Local\\Temp\\ipykernel_3340\\4141464080.py:6: PerformanceWarning: DataFrame is highly fragmented.  This is usually the result of calling `frame.insert` many times, which has poor performance.  Consider joining all columns at once using pd.concat(axis=1) instead. To get a de-fragmented frame, use `newframe = frame.copy()`\n",
      "  df['7100'] = df['66. Расходы по реализации ']\n",
      "C:\\Users\\User\\AppData\\Local\\Temp\\ipykernel_3340\\4141464080.py:7: PerformanceWarning: DataFrame is highly fragmented.  This is usually the result of calling `frame.insert` many times, which has poor performance.  Consider joining all columns at once using pd.concat(axis=1) instead. To get a de-fragmented frame, use `newframe = frame.copy()`\n",
      "  df['7200'] = df['67. Административные расходы ']\n",
      "C:\\Users\\User\\AppData\\Local\\Temp\\ipykernel_3340\\4141464080.py:8: PerformanceWarning: DataFrame is highly fragmented.  This is usually the result of calling `frame.insert` many times, which has poor performance.  Consider joining all columns at once using pd.concat(axis=1) instead. To get a de-fragmented frame, use `newframe = frame.copy()`\n",
      "  df['7300'] = df['72. Расходы по финансированию']\n",
      "C:\\Users\\User\\AppData\\Local\\Temp\\ipykernel_3340\\4141464080.py:9: PerformanceWarning: DataFrame is highly fragmented.  This is usually the result of calling `frame.insert` many times, which has poor performance.  Consider joining all columns at once using pd.concat(axis=1) instead. To get a de-fragmented frame, use `newframe = frame.copy()`\n",
      "  df['7400'] = df['75. Прочие неоперационные расходы ']\n",
      "C:\\Users\\User\\AppData\\Local\\Temp\\ipykernel_3340\\4141464080.py:10: PerformanceWarning: DataFrame is highly fragmented.  This is usually the result of calling `frame.insert` many times, which has poor performance.  Consider joining all columns at once using pd.concat(axis=1) instead. To get a de-fragmented frame, use `newframe = frame.copy()`\n",
      "  df['7600'] = df['73. Доля организации в прибыли (убытке) ассоциированных организаций и совместной деятельности, учитываемых по методу долевого участия']\n",
      "C:\\Users\\User\\AppData\\Local\\Temp\\ipykernel_3340\\4141464080.py:11: PerformanceWarning: DataFrame is highly fragmented.  This is usually the result of calling `frame.insert` many times, which has poor performance.  Consider joining all columns at once using pd.concat(axis=1) instead. To get a de-fragmented frame, use `newframe = frame.copy()`\n",
      "  df['7700'] = df['77. Расходы по подоходному налогу']\n",
      "C:\\Users\\User\\AppData\\Local\\Temp\\ipykernel_3340\\4141464080.py:12: PerformanceWarning: DataFrame is highly fragmented.  This is usually the result of calling `frame.insert` many times, which has poor performance.  Consider joining all columns at once using pd.concat(axis=1) instead. To get a de-fragmented frame, use `newframe = frame.copy()`\n",
      "  df['9100'] = df['69. Прочие доходы']\n",
      "C:\\Users\\User\\AppData\\Local\\Temp\\ipykernel_3340\\4141464080.py:13: PerformanceWarning: DataFrame is highly fragmented.  This is usually the result of calling `frame.insert` many times, which has poor performance.  Consider joining all columns at once using pd.concat(axis=1) instead. To get a de-fragmented frame, use `newframe = frame.copy()`\n",
      "  df['9200'] = df['68. Прочие расходы ']\n",
      "C:\\Users\\User\\AppData\\Local\\Temp\\ipykernel_3340\\4141464080.py:14: PerformanceWarning: DataFrame is highly fragmented.  This is usually the result of calling `frame.insert` many times, which has poor performance.  Consider joining all columns at once using pd.concat(axis=1) instead. To get a de-fragmented frame, use `newframe = frame.copy()`\n",
      "  df['9300'] = df['81. Размер амортизации в расходной части']\n"
     ]
    }
   ],
   "source": [
    "df['6000'] = df['63. Выручка ']\n",
    "df['6100'] = df['71. Доходы по финансированию']\n",
    "df['6200'] = df['74. Прочие неоперационные доходы']\n",
    "df['6300'] = df['79. Прибыль (убыток) после налогообложения от прекращенной деятельности ']\n",
    "df['7000'] = df['64. Себестоимость реализованных товаров и услуг ']\n",
    "df['7100'] = df['66. Расходы по реализации ']\n",
    "df['7200'] = df['67. Административные расходы ']\n",
    "df['7300'] = df['72. Расходы по финансированию']\n",
    "df['7400'] = df['75. Прочие неоперационные расходы ']\n",
    "df['7600'] = df['73. Доля организации в прибыли (убытке) ассоциированных организаций и совместной деятельности, учитываемых по методу долевого участия']\n",
    "df['7700'] = df['77. Расходы по подоходному налогу']\n",
    "df['9100'] = df['69. Прочие доходы']\n",
    "df['9200'] = df['68. Прочие расходы ']\n",
    "df['9300'] = df['81. Размер амортизации в расходной части']"
   ]
  },
  {
   "cell_type": "code",
   "execution_count": 8,
   "id": "7f9384fd",
   "metadata": {},
   "outputs": [],
   "source": [
    "columns_select = [\n",
    "    'kind', 'name', 'date', 'id_raw', \n",
    "    '1000', '1100', '1200', '1300', '1400', '1700',\n",
    "    '2000', '2100', '2200', '2300', '2400', '2500', '2600', '2700', '2800', '2900', \n",
    "    '3000', '3100', '3200', '3400', '3500', \n",
    "    '4000', '4100', '4200', '4300', '4400', \n",
    "    '5000', '5100', '5200', '5300', '5500', '5600', \n",
    "    '6000', '6100', '6200', '6300', \n",
    "    '7000', '7100', '7200', '7300', '7400', '7600', '7700', \n",
    "    '9100', '9200', '9300'\n",
    "]"
   ]
  },
  {
   "cell_type": "code",
   "execution_count": 9,
   "id": "c87437ae",
   "metadata": {},
   "outputs": [],
   "source": [
    "output = df[columns_select]"
   ]
  },
  {
   "cell_type": "code",
   "execution_count": 10,
   "id": "16e2bc13",
   "metadata": {},
   "outputs": [
    {
     "name": "stderr",
     "output_type": "stream",
     "text": [
      "C:\\Users\\User\\AppData\\Local\\Temp\\ipykernel_3340\\2448428908.py:1: SettingWithCopyWarning: \n",
      "A value is trying to be set on a copy of a slice from a DataFrame.\n",
      "Try using .loc[row_indexer,col_indexer] = value instead\n",
      "\n",
      "See the caveats in the documentation: https://pandas.pydata.org/pandas-docs/stable/user_guide/indexing.html#returning-a-view-versus-a-copy\n",
      "  output['id'] = (\n"
     ]
    }
   ],
   "source": [
    "output['id'] = (\n",
    "     output['id_raw']\n",
    "    .str.replace(r'\\D+', '', regex=True)\n",
    "    .str[:12]\n",
    ")"
   ]
  },
  {
   "cell_type": "markdown",
   "id": "189208d6",
   "metadata": {},
   "source": [
    "### Добавление просрочки"
   ]
  },
  {
   "cell_type": "code",
   "execution_count": 11,
   "id": "eca8e3ea",
   "metadata": {},
   "outputs": [],
   "source": [
    "SP = pd.read_excel(\n",
    "    os.getcwd()+r'\\1 Данные сырые\\Сырые данные ИО просрочки.xlsx',\n",
    "    converters={'ИНН/БИН':str}\n",
    ")"
   ]
  },
  {
   "cell_type": "code",
   "execution_count": 12,
   "id": "f8d2b613",
   "metadata": {},
   "outputs": [],
   "source": [
    "SP.rename(\n",
    "    columns={\n",
    "        'ИНН/БИН': 'id', \n",
    "        'Максимальное количество дней просрочки': 'Макс просрочка'\n",
    "    }, inplace=True\n",
    ")"
   ]
  },
  {
   "cell_type": "code",
   "execution_count": 13,
   "id": "1ad6ba30",
   "metadata": {},
   "outputs": [],
   "source": [
    "SP = pd.pivot_table(\n",
    "    SP, \n",
    "    values='Макс просрочка', \n",
    "    index='id', \n",
    "    aggfunc=np.max\n",
    ")\n",
    "SP.reset_index(inplace=True)\n",
    "SP['type'] = 'SP'"
   ]
  },
  {
   "cell_type": "code",
   "execution_count": 14,
   "id": "789e8f1d",
   "metadata": {},
   "outputs": [],
   "source": [
    "result = pd.merge(\n",
    "    left=output, \n",
    "    right=SP, \n",
    "    on='id',\n",
    "    how='left'\n",
    ")"
   ]
  },
  {
   "cell_type": "code",
   "execution_count": 15,
   "id": "1e7cf36c",
   "metadata": {},
   "outputs": [],
   "source": [
    "result = result.fillna('nan')"
   ]
  },
  {
   "cell_type": "code",
   "execution_count": 16,
   "id": "b8cd141b",
   "metadata": {},
   "outputs": [],
   "source": [
    "id_nan = (result['Макс просрочка'] != 'nan')"
   ]
  },
  {
   "cell_type": "code",
   "execution_count": 17,
   "id": "0c54bc17",
   "metadata": {},
   "outputs": [],
   "source": [
    "result = result[id_nan]"
   ]
  },
  {
   "cell_type": "code",
   "execution_count": 18,
   "id": "768c6d39",
   "metadata": {},
   "outputs": [],
   "source": [
    "path_to_save = (os.getcwd()+r'\\2 Данные конвертированные\\Конвертированные данные ИО.xlsx')\n",
    "result.to_excel(path_to_save)"
   ]
  }
 ],
 "metadata": {
  "celltoolbar": "Отсутствует",
  "kernelspec": {
   "display_name": "Python 3 (ipykernel)",
   "language": "python",
   "name": "python3"
  },
  "language_info": {
   "codemirror_mode": {
    "name": "ipython",
    "version": 3
   },
   "file_extension": ".py",
   "mimetype": "text/x-python",
   "name": "python",
   "nbconvert_exporter": "python",
   "pygments_lexer": "ipython3",
   "version": "3.9.12"
  }
 },
 "nbformat": 4,
 "nbformat_minor": 5
}
