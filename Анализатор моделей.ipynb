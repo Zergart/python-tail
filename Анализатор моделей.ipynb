{
 "cells": [
  {
   "cell_type": "markdown",
   "id": "6f1c1ef3",
   "metadata": {},
   "source": [
    "# Анализ моделей"
   ]
  },
  {
   "cell_type": "code",
   "execution_count": 1,
   "id": "ef9759fd",
   "metadata": {},
   "outputs": [],
   "source": [
    "import pandas as pd\n",
    "import numpy as np\n",
    "import matplotlib.pyplot as plt\n",
    "from sklearn.metrics import (\n",
    "    confusion_matrix, \n",
    "    ConfusionMatrixDisplay, \n",
    "    precision_score, \n",
    "    recall_score, \n",
    "    f1_score, \n",
    "    roc_auc_score,\n",
    "    classification_report,\n",
    ")\n",
    "\n",
    "import os\n",
    "\n",
    "this_dir = os.getcwd()"
   ]
  },
  {
   "cell_type": "code",
   "execution_count": 2,
   "id": "b97a2a3c",
   "metadata": {},
   "outputs": [],
   "source": [
    "df = pd.read_excel(\n",
    "    this_dir+r'\\3 Данные из финансового модулятора\\output.xlsx'\n",
    ")\n",
    "\n",
    "df = df[df['kind'] == 'ИО']\n",
    "\n",
    "pred = pd.DataFrame()\n",
    "fact = pd.DataFrame()\n",
    "fact['fact'] = df['fact bad']\n",
    "fact = fact.to_numpy()\n",
    "fact = fact[:,0]\n",
    "\n",
    "listPred = [c for c in df.columns if c.lower()[:4] == 'pred']"
   ]
  },
  {
   "cell_type": "code",
   "execution_count": 3,
   "id": "5623a62c",
   "metadata": {},
   "outputs": [
    {
     "data": {
      "text/html": [
       "<div>\n",
       "<style scoped>\n",
       "    .dataframe tbody tr th:only-of-type {\n",
       "        vertical-align: middle;\n",
       "    }\n",
       "\n",
       "    .dataframe tbody tr th {\n",
       "        vertical-align: top;\n",
       "    }\n",
       "\n",
       "    .dataframe thead th {\n",
       "        text-align: right;\n",
       "    }\n",
       "</style>\n",
       "<table border=\"1\" class=\"dataframe\">\n",
       "  <thead>\n",
       "    <tr style=\"text-align: right;\">\n",
       "      <th></th>\n",
       "      <th>index</th>\n",
       "      <th>kind</th>\n",
       "      <th>Макс просрочка</th>\n",
       "      <th>name</th>\n",
       "      <th>date</th>\n",
       "      <th>1000</th>\n",
       "      <th>1100</th>\n",
       "      <th>1200</th>\n",
       "      <th>1300</th>\n",
       "      <th>1400</th>\n",
       "      <th>...</th>\n",
       "      <th>R-score Sayfullin-Kadykov</th>\n",
       "      <th>Модель Сайфуллина-Кадыкова</th>\n",
       "      <th>pred Sayfullin-Kadykov</th>\n",
       "      <th>Z Chesser</th>\n",
       "      <th>P-score Chesser</th>\n",
       "      <th>Модель Чессера</th>\n",
       "      <th>pred Chesser</th>\n",
       "      <th>Z-score J-model</th>\n",
       "      <th>Модель PD J</th>\n",
       "      <th>pred PD J</th>\n",
       "    </tr>\n",
       "  </thead>\n",
       "  <tbody>\n",
       "    <tr>\n",
       "      <th>0</th>\n",
       "      <td>0</td>\n",
       "      <td>ИО</td>\n",
       "      <td>189</td>\n",
       "      <td>ТОО Mobil Realty Management Company</td>\n",
       "      <td>2019-01-01 00:00:00</td>\n",
       "      <td>112105</td>\n",
       "      <td>0</td>\n",
       "      <td>35459</td>\n",
       "      <td>16278</td>\n",
       "      <td>1426</td>\n",
       "      <td>...</td>\n",
       "      <td>-53.777891</td>\n",
       "      <td>неудовлетворительное</td>\n",
       "      <td>1</td>\n",
       "      <td>64034.534398</td>\n",
       "      <td>1.0</td>\n",
       "      <td>неудовлетворительное</td>\n",
       "      <td>1</td>\n",
       "      <td>0.547017</td>\n",
       "      <td>0.341935</td>\n",
       "      <td>1</td>\n",
       "    </tr>\n",
       "    <tr>\n",
       "      <th>1</th>\n",
       "      <td>1</td>\n",
       "      <td>ИО</td>\n",
       "      <td>189</td>\n",
       "      <td>ТОО Mobil Realty Management Company</td>\n",
       "      <td>2020-01-01 00:00:00</td>\n",
       "      <td>89436</td>\n",
       "      <td>0</td>\n",
       "      <td>68032</td>\n",
       "      <td>20295</td>\n",
       "      <td>1512</td>\n",
       "      <td>...</td>\n",
       "      <td>-47.648198</td>\n",
       "      <td>неудовлетворительное</td>\n",
       "      <td>1</td>\n",
       "      <td>85814.850210</td>\n",
       "      <td>1.0</td>\n",
       "      <td>неудовлетворительное</td>\n",
       "      <td>1</td>\n",
       "      <td>0.565764</td>\n",
       "      <td>0.346123</td>\n",
       "      <td>1</td>\n",
       "    </tr>\n",
       "    <tr>\n",
       "      <th>2</th>\n",
       "      <td>2</td>\n",
       "      <td>ИО</td>\n",
       "      <td>189</td>\n",
       "      <td>ТОО Mobil Realty Management Company</td>\n",
       "      <td>2020-10-01 00:00:00</td>\n",
       "      <td>50332</td>\n",
       "      <td>0</td>\n",
       "      <td>80387</td>\n",
       "      <td>19169</td>\n",
       "      <td>842</td>\n",
       "      <td>...</td>\n",
       "      <td>-58.932862</td>\n",
       "      <td>неудовлетворительное</td>\n",
       "      <td>1</td>\n",
       "      <td>103501.510208</td>\n",
       "      <td>1.0</td>\n",
       "      <td>неудовлетворительное</td>\n",
       "      <td>1</td>\n",
       "      <td>0.586811</td>\n",
       "      <td>0.350854</td>\n",
       "      <td>1</td>\n",
       "    </tr>\n",
       "    <tr>\n",
       "      <th>3</th>\n",
       "      <td>3</td>\n",
       "      <td>ИО</td>\n",
       "      <td>0</td>\n",
       "      <td>ТОО «Молочный Завод «Солнечный»</td>\n",
       "      <td>2019-12-31 00:00:00</td>\n",
       "      <td>504839</td>\n",
       "      <td>2449010</td>\n",
       "      <td>0</td>\n",
       "      <td>4659705</td>\n",
       "      <td>0</td>\n",
       "      <td>...</td>\n",
       "      <td>-2.052959</td>\n",
       "      <td>неудовлетворительное</td>\n",
       "      <td>1</td>\n",
       "      <td>-402314.461836</td>\n",
       "      <td>0.0</td>\n",
       "      <td>удовлетворительное</td>\n",
       "      <td>0</td>\n",
       "      <td>-1.342805</td>\n",
       "      <td>0.074082</td>\n",
       "      <td>0</td>\n",
       "    </tr>\n",
       "    <tr>\n",
       "      <th>4</th>\n",
       "      <td>4</td>\n",
       "      <td>ИО</td>\n",
       "      <td>0</td>\n",
       "      <td>ТОО «Молочный Завод «Солнечный»</td>\n",
       "      <td>2020-12-31 00:00:00</td>\n",
       "      <td>390905</td>\n",
       "      <td>3035573</td>\n",
       "      <td>0</td>\n",
       "      <td>6243879</td>\n",
       "      <td>0</td>\n",
       "      <td>...</td>\n",
       "      <td>-1.108330</td>\n",
       "      <td>неудовлетворительное</td>\n",
       "      <td>1</td>\n",
       "      <td>-461669.028999</td>\n",
       "      <td>0.0</td>\n",
       "      <td>удовлетворительное</td>\n",
       "      <td>0</td>\n",
       "      <td>-1.242663</td>\n",
       "      <td>0.081177</td>\n",
       "      <td>0</td>\n",
       "    </tr>\n",
       "    <tr>\n",
       "      <th>...</th>\n",
       "      <td>...</td>\n",
       "      <td>...</td>\n",
       "      <td>...</td>\n",
       "      <td>...</td>\n",
       "      <td>...</td>\n",
       "      <td>...</td>\n",
       "      <td>...</td>\n",
       "      <td>...</td>\n",
       "      <td>...</td>\n",
       "      <td>...</td>\n",
       "      <td>...</td>\n",
       "      <td>...</td>\n",
       "      <td>...</td>\n",
       "      <td>...</td>\n",
       "      <td>...</td>\n",
       "      <td>...</td>\n",
       "      <td>...</td>\n",
       "      <td>...</td>\n",
       "      <td>...</td>\n",
       "      <td>...</td>\n",
       "      <td>...</td>\n",
       "    </tr>\n",
       "    <tr>\n",
       "      <th>3289</th>\n",
       "      <td>4462</td>\n",
       "      <td>ИО</td>\n",
       "      <td>0</td>\n",
       "      <td>ТОО \"Шымкентстрой\"</td>\n",
       "      <td>2018-01-01 00:00:00</td>\n",
       "      <td>7453</td>\n",
       "      <td>0</td>\n",
       "      <td>19843</td>\n",
       "      <td>559364</td>\n",
       "      <td>2666</td>\n",
       "      <td>...</td>\n",
       "      <td>2.344335</td>\n",
       "      <td>удовлетворительное</td>\n",
       "      <td>0</td>\n",
       "      <td>-32250.564964</td>\n",
       "      <td>0.0</td>\n",
       "      <td>удовлетворительное</td>\n",
       "      <td>0</td>\n",
       "      <td>-4.316069</td>\n",
       "      <td>0.004197</td>\n",
       "      <td>0</td>\n",
       "    </tr>\n",
       "    <tr>\n",
       "      <th>3290</th>\n",
       "      <td>4463</td>\n",
       "      <td>ИО</td>\n",
       "      <td>0</td>\n",
       "      <td>ТОО \"Шымкентстрой\"</td>\n",
       "      <td>2019-01-01 00:00:00</td>\n",
       "      <td>1139</td>\n",
       "      <td>0</td>\n",
       "      <td>166167</td>\n",
       "      <td>382261</td>\n",
       "      <td>200</td>\n",
       "      <td>...</td>\n",
       "      <td>1.529159</td>\n",
       "      <td>удовлетворительное</td>\n",
       "      <td>0</td>\n",
       "      <td>-29605.241459</td>\n",
       "      <td>0.0</td>\n",
       "      <td>удовлетворительное</td>\n",
       "      <td>0</td>\n",
       "      <td>-3.469919</td>\n",
       "      <td>0.009647</td>\n",
       "      <td>0</td>\n",
       "    </tr>\n",
       "    <tr>\n",
       "      <th>3291</th>\n",
       "      <td>4464</td>\n",
       "      <td>ИО</td>\n",
       "      <td>0</td>\n",
       "      <td>ТОО \"Шымкентстрой\"</td>\n",
       "      <td>2017-01-01 00:00:00</td>\n",
       "      <td>191900</td>\n",
       "      <td>0</td>\n",
       "      <td>158908</td>\n",
       "      <td>257719</td>\n",
       "      <td>0</td>\n",
       "      <td>...</td>\n",
       "      <td>1.640847</td>\n",
       "      <td>удовлетворительное</td>\n",
       "      <td>0</td>\n",
       "      <td>-14210.592489</td>\n",
       "      <td>0.0</td>\n",
       "      <td>удовлетворительное</td>\n",
       "      <td>0</td>\n",
       "      <td>-3.830059</td>\n",
       "      <td>0.006773</td>\n",
       "      <td>0</td>\n",
       "    </tr>\n",
       "    <tr>\n",
       "      <th>3292</th>\n",
       "      <td>4465</td>\n",
       "      <td>ИО</td>\n",
       "      <td>0</td>\n",
       "      <td>ТОО \"Шымкентстрой\"</td>\n",
       "      <td>2018-01-01 00:00:00</td>\n",
       "      <td>7453</td>\n",
       "      <td>0</td>\n",
       "      <td>19843</td>\n",
       "      <td>559364</td>\n",
       "      <td>2666</td>\n",
       "      <td>...</td>\n",
       "      <td>2.344335</td>\n",
       "      <td>удовлетворительное</td>\n",
       "      <td>0</td>\n",
       "      <td>-32250.564964</td>\n",
       "      <td>0.0</td>\n",
       "      <td>удовлетворительное</td>\n",
       "      <td>0</td>\n",
       "      <td>-4.316069</td>\n",
       "      <td>0.004197</td>\n",
       "      <td>0</td>\n",
       "    </tr>\n",
       "    <tr>\n",
       "      <th>3293</th>\n",
       "      <td>4466</td>\n",
       "      <td>ИО</td>\n",
       "      <td>0</td>\n",
       "      <td>ТОО \"Шымкентстрой\"</td>\n",
       "      <td>2019-01-01 00:00:00</td>\n",
       "      <td>1139</td>\n",
       "      <td>0</td>\n",
       "      <td>166167</td>\n",
       "      <td>382261</td>\n",
       "      <td>200</td>\n",
       "      <td>...</td>\n",
       "      <td>1.529159</td>\n",
       "      <td>удовлетворительное</td>\n",
       "      <td>0</td>\n",
       "      <td>-29605.241459</td>\n",
       "      <td>0.0</td>\n",
       "      <td>удовлетворительное</td>\n",
       "      <td>0</td>\n",
       "      <td>-3.469919</td>\n",
       "      <td>0.009647</td>\n",
       "      <td>0</td>\n",
       "    </tr>\n",
       "  </tbody>\n",
       "</table>\n",
       "<p>3294 rows × 155 columns</p>\n",
       "</div>"
      ],
      "text/plain": [
       "      index kind  Макс просрочка                                 name  \\\n",
       "0         0   ИО             189  ТОО Mobil Realty Management Company   \n",
       "1         1   ИО             189  ТОО Mobil Realty Management Company   \n",
       "2         2   ИО             189  ТОО Mobil Realty Management Company   \n",
       "3         3   ИО               0      ТОО «Молочный Завод «Солнечный»   \n",
       "4         4   ИО               0      ТОО «Молочный Завод «Солнечный»   \n",
       "...     ...  ...             ...                                  ...   \n",
       "3289   4462   ИО               0                   ТОО \"Шымкентстрой\"   \n",
       "3290   4463   ИО               0                   ТОО \"Шымкентстрой\"   \n",
       "3291   4464   ИО               0                   ТОО \"Шымкентстрой\"   \n",
       "3292   4465   ИО               0                   ТОО \"Шымкентстрой\"   \n",
       "3293   4466   ИО               0                   ТОО \"Шымкентстрой\"   \n",
       "\n",
       "                     date    1000     1100    1200     1300  1400  ...  \\\n",
       "0     2019-01-01 00:00:00  112105        0   35459    16278  1426  ...   \n",
       "1     2020-01-01 00:00:00   89436        0   68032    20295  1512  ...   \n",
       "2     2020-10-01 00:00:00   50332        0   80387    19169   842  ...   \n",
       "3     2019-12-31 00:00:00  504839  2449010       0  4659705     0  ...   \n",
       "4     2020-12-31 00:00:00  390905  3035573       0  6243879     0  ...   \n",
       "...                   ...     ...      ...     ...      ...   ...  ...   \n",
       "3289  2018-01-01 00:00:00    7453        0   19843   559364  2666  ...   \n",
       "3290  2019-01-01 00:00:00    1139        0  166167   382261   200  ...   \n",
       "3291  2017-01-01 00:00:00  191900        0  158908   257719     0  ...   \n",
       "3292  2018-01-01 00:00:00    7453        0   19843   559364  2666  ...   \n",
       "3293  2019-01-01 00:00:00    1139        0  166167   382261   200  ...   \n",
       "\n",
       "      R-score Sayfullin-Kadykov  Модель Сайфуллина-Кадыкова  \\\n",
       "0                    -53.777891        неудовлетворительное   \n",
       "1                    -47.648198        неудовлетворительное   \n",
       "2                    -58.932862        неудовлетворительное   \n",
       "3                     -2.052959        неудовлетворительное   \n",
       "4                     -1.108330        неудовлетворительное   \n",
       "...                         ...                         ...   \n",
       "3289                   2.344335          удовлетворительное   \n",
       "3290                   1.529159          удовлетворительное   \n",
       "3291                   1.640847          удовлетворительное   \n",
       "3292                   2.344335          удовлетворительное   \n",
       "3293                   1.529159          удовлетворительное   \n",
       "\n",
       "      pred Sayfullin-Kadykov      Z Chesser  P-score Chesser  \\\n",
       "0                          1   64034.534398              1.0   \n",
       "1                          1   85814.850210              1.0   \n",
       "2                          1  103501.510208              1.0   \n",
       "3                          1 -402314.461836              0.0   \n",
       "4                          1 -461669.028999              0.0   \n",
       "...                      ...            ...              ...   \n",
       "3289                       0  -32250.564964              0.0   \n",
       "3290                       0  -29605.241459              0.0   \n",
       "3291                       0  -14210.592489              0.0   \n",
       "3292                       0  -32250.564964              0.0   \n",
       "3293                       0  -29605.241459              0.0   \n",
       "\n",
       "            Модель Чессера  pred Chesser  Z-score J-model  Модель PD J  \\\n",
       "0     неудовлетворительное             1         0.547017     0.341935   \n",
       "1     неудовлетворительное             1         0.565764     0.346123   \n",
       "2     неудовлетворительное             1         0.586811     0.350854   \n",
       "3       удовлетворительное             0        -1.342805     0.074082   \n",
       "4       удовлетворительное             0        -1.242663     0.081177   \n",
       "...                    ...           ...              ...          ...   \n",
       "3289    удовлетворительное             0        -4.316069     0.004197   \n",
       "3290    удовлетворительное             0        -3.469919     0.009647   \n",
       "3291    удовлетворительное             0        -3.830059     0.006773   \n",
       "3292    удовлетворительное             0        -4.316069     0.004197   \n",
       "3293    удовлетворительное             0        -3.469919     0.009647   \n",
       "\n",
       "      pred PD J  \n",
       "0             1  \n",
       "1             1  \n",
       "2             1  \n",
       "3             0  \n",
       "4             0  \n",
       "...         ...  \n",
       "3289          0  \n",
       "3290          0  \n",
       "3291          0  \n",
       "3292          0  \n",
       "3293          0  \n",
       "\n",
       "[3294 rows x 155 columns]"
      ]
     },
     "execution_count": 3,
     "metadata": {},
     "output_type": "execute_result"
    }
   ],
   "source": [
    "df"
   ]
  },
  {
   "cell_type": "markdown",
   "id": "0e50878b",
   "metadata": {},
   "source": [
    "## Матрица ошибок"
   ]
  },
  {
   "cell_type": "code",
   "execution_count": 4,
   "id": "09f555a1",
   "metadata": {
    "scrolled": false
   },
   "outputs": [
    {
     "name": "stdout",
     "output_type": "stream",
     "text": [
      "pred Altman 2x\n"
     ]
    },
    {
     "data": {
      "image/png": "[encoded data removed]",
      "text/plain": [
       "<Figure size 432x288 with 2 Axes>"
      ]
     },
     "metadata": {
      "needs_background": "light"
     },
     "output_type": "display_data"
    },
    {
     "name": "stdout",
     "output_type": "stream",
     "text": [
      "pred Altman 5x\n"
     ]
    },
    {
     "data": {
      "image/png": "[encoded data removed]",
      "text/plain": [
       "<Figure size 432x288 with 2 Axes>"
      ]
     },
     "metadata": {
      "needs_background": "light"
     },
     "output_type": "display_data"
    },
    {
     "name": "stdout",
     "output_type": "stream",
     "text": [
      "pred Tafler\n"
     ]
    },
    {
     "data": {
      "image/png": "[encoded data removed]",
      "text/plain": [
       "<Figure size 432x288 with 2 Axes>"
      ]
     },
     "metadata": {
      "needs_background": "light"
     },
     "output_type": "display_data"
    },
    {
     "name": "stdout",
     "output_type": "stream",
     "text": [
      "pred Fulmer\n"
     ]
    },
    {
     "data": {
      "image/png": "[encoded data removed]",
      "text/plain": [
       "<Figure size 432x288 with 2 Axes>"
      ]
     },
     "metadata": {
      "needs_background": "light"
     },
     "output_type": "display_data"
    },
    {
     "name": "stdout",
     "output_type": "stream",
     "text": [
      "pred Springate\n"
     ]
    },
    {
     "data": {
      "image/png": "[encoded data removed]",
      "text/plain": [
       "<Figure size 432x288 with 2 Axes>"
      ]
     },
     "metadata": {
      "needs_background": "light"
     },
     "output_type": "display_data"
    },
    {
     "name": "stdout",
     "output_type": "stream",
     "text": [
      "pred IGEA\n"
     ]
    },
    {
     "data": {
      "image/png": "[encoded data removed]",
      "text/plain": [
       "<Figure size 432x288 with 2 Axes>"
      ]
     },
     "metadata": {
      "needs_background": "light"
     },
     "output_type": "display_data"
    },
    {
     "name": "stdout",
     "output_type": "stream",
     "text": [
      "pred Lis\n"
     ]
    },
    {
     "data": {
      "image/png": "[encoded data removed]",
      "text/plain": [
       "<Figure size 432x288 with 2 Axes>"
      ]
     },
     "metadata": {
      "needs_background": "light"
     },
     "output_type": "display_data"
    },
    {
     "name": "stdout",
     "output_type": "stream",
     "text": [
      "pred Sayfullin-Kadykov\n"
     ]
    },
    {
     "data": {
      "image/png": "[encoded data removed]",
      "text/plain": [
       "<Figure size 432x288 with 2 Axes>"
      ]
     },
     "metadata": {
      "needs_background": "light"
     },
     "output_type": "display_data"
    },
    {
     "name": "stdout",
     "output_type": "stream",
     "text": [
      "pred Chesser\n"
     ]
    },
    {
     "data": {
      "image/png": "[encoded data removed]",
      "text/plain": [
       "<Figure size 432x288 with 2 Axes>"
      ]
     },
     "metadata": {
      "needs_background": "light"
     },
     "output_type": "display_data"
    },
    {
     "name": "stdout",
     "output_type": "stream",
     "text": [
      "pred PD J\n"
     ]
    },
    {
     "data": {
      "image/png": "[encoded data removed]",
      "text/plain": [
       "<Figure size 432x288 with 2 Axes>"
      ]
     },
     "metadata": {
      "needs_background": "light"
     },
     "output_type": "display_data"
    }
   ],
   "source": [
    "for i in listPred:\n",
    "    print(i)\n",
    "    pred = df[i]\n",
    "    pred = pred.to_numpy()\n",
    "    pred\n",
    "    cm = confusion_matrix(fact, pred)\n",
    "    disp = ConfusionMatrixDisplay(confusion_matrix=cm)\n",
    "    disp.plot()\n",
    "    plt.show()"
   ]
  },
  {
   "cell_type": "markdown",
   "id": "51f611d1",
   "metadata": {},
   "source": [
    "## Показатели точности модели"
   ]
  },
  {
   "cell_type": "code",
   "execution_count": 5,
   "id": "ba5c4e81",
   "metadata": {},
   "outputs": [
    {
     "name": "stdout",
     "output_type": "stream",
     "text": [
      "Prevalence: 4.0680%\n"
     ]
    }
   ],
   "source": [
    "prevalence_of_data = np.sum(df['fact bad']) / len(df['fact bad']) \n",
    "print('Prevalence: {:.4%}'.format(prevalence_of_data))"
   ]
  },
  {
   "cell_type": "code",
   "execution_count": 6,
   "id": "5753a7c3",
   "metadata": {},
   "outputs": [
    {
     "name": "stdout",
     "output_type": "stream",
     "text": [
      "pred Altman 2x \t\t Precision: 8.33%; \t Recall: 1.49%; \t F1: 2.53%; \t AUC: 0.50; \t Gini: 0.01\n",
      "pred Altman 5x \t\t Precision: 7.99%; \t Recall: 66.42%; \t F1: 14.26%; \t AUC: 0.67; \t Gini: 0.34\n",
      "pred Tafler \t\t Precision: 6.44%; \t Recall: 38.06%; \t F1: 11.02%; \t AUC: 0.57; \t Gini: 0.15\n",
      "pred Fulmer \t\t Precision: 8.20%; \t Recall: 73.13%; \t F1: 14.75%; \t AUC: 0.69; \t Gini: 0.38\n",
      "pred Springate \t\t Precision: 6.54%; \t Recall: 58.21%; \t F1: 11.76%; \t AUC: 0.61; \t Gini: 0.23\n",
      "pred IGEA \t\t Precision: 6.76%; \t Recall: 61.19%; \t F1: 12.18%; \t AUC: 0.63; \t Gini: 0.25\n",
      "pred Lis \t\t Precision: 4.78%; \t Recall: 69.40%; \t F1: 8.95%; \t AUC: 0.55; \t Gini: 0.11\n",
      "pred Sayfullin \t\t Precision: 5.86%; \t Recall: 77.61%; \t F1: 10.90%; \t AUC: 0.62; \t Gini: 0.25\n",
      "pred Chesser \t\t Precision: 27.61%; \t Recall: 73.13%; \t F1: 40.08%; \t AUC: 0.83; \t Gini: 0.65\n",
      "pred PD J \t\t Precision: 10.99%; \t Recall: 52.99%; \t F1: 18.21%; \t AUC: 0.67; \t Gini: 0.35\n"
     ]
    }
   ],
   "source": [
    "for i in listPred:\n",
    "    pred = df[i]\n",
    "    pred = pred.to_numpy()\n",
    "    print(\n",
    "        i[:14], '\\t\\t',\n",
    "        'Precision: {:.2%}; \\t'.format(precision_score(fact, pred)),\n",
    "        'Recall: {:.2%}; \\t'.format(recall_score(fact, pred)),\n",
    "        'F1: {:.2%}; \\t'.format(f1_score(fact, pred)),\n",
    "        'AUC: {:.2f}; \\t'.format(roc_auc_score(fact, pred)),\n",
    "        'Gini: {:.2f}'.format(2 * roc_auc_score(fact, pred) - 1)\n",
    "    )"
   ]
  },
  {
   "cell_type": "code",
   "execution_count": 7,
   "id": "958ab939",
   "metadata": {},
   "outputs": [
    {
     "name": "stdout",
     "output_type": "stream",
     "text": [
      "pred Altman 2x \n",
      "               precision    recall  f1-score   support\n",
      "\n",
      "           0       0.96      0.99      0.98      3160\n",
      "           1       0.08      0.01      0.03       134\n",
      "\n",
      "    accuracy                           0.95      3294\n",
      "   macro avg       0.52      0.50      0.50      3294\n",
      "weighted avg       0.92      0.95      0.94      3294\n",
      " \n",
      "\n",
      "\n",
      "pred Altman 5x \n",
      "               precision    recall  f1-score   support\n",
      "\n",
      "           0       0.98      0.68      0.80      3160\n",
      "           1       0.08      0.66      0.14       134\n",
      "\n",
      "    accuracy                           0.68      3294\n",
      "   macro avg       0.53      0.67      0.47      3294\n",
      "weighted avg       0.94      0.68      0.77      3294\n",
      " \n",
      "\n",
      "\n",
      "pred Tafler \n",
      "               precision    recall  f1-score   support\n",
      "\n",
      "           0       0.97      0.77      0.85      3160\n",
      "           1       0.06      0.38      0.11       134\n",
      "\n",
      "    accuracy                           0.75      3294\n",
      "   macro avg       0.52      0.57      0.48      3294\n",
      "weighted avg       0.93      0.75      0.82      3294\n",
      " \n",
      "\n",
      "\n",
      "pred Fulmer \n",
      "               precision    recall  f1-score   support\n",
      "\n",
      "           0       0.98      0.65      0.78      3160\n",
      "           1       0.08      0.73      0.15       134\n",
      "\n",
      "    accuracy                           0.66      3294\n",
      "   macro avg       0.53      0.69      0.47      3294\n",
      "weighted avg       0.95      0.66      0.76      3294\n",
      " \n",
      "\n",
      "\n",
      "pred Springate \n",
      "               precision    recall  f1-score   support\n",
      "\n",
      "           0       0.97      0.65      0.78      3160\n",
      "           1       0.07      0.58      0.12       134\n",
      "\n",
      "    accuracy                           0.64      3294\n",
      "   macro avg       0.52      0.61      0.45      3294\n",
      "weighted avg       0.94      0.64      0.75      3294\n",
      " \n",
      "\n",
      "\n",
      "pred IGEA \n",
      "               precision    recall  f1-score   support\n",
      "\n",
      "           0       0.98      0.64      0.77      3160\n",
      "           1       0.07      0.61      0.12       134\n",
      "\n",
      "    accuracy                           0.64      3294\n",
      "   macro avg       0.52      0.63      0.45      3294\n",
      "weighted avg       0.94      0.64      0.75      3294\n",
      " \n",
      "\n",
      "\n",
      "pred Lis \n",
      "               precision    recall  f1-score   support\n",
      "\n",
      "           0       0.97      0.41      0.58      3160\n",
      "           1       0.05      0.69      0.09       134\n",
      "\n",
      "    accuracy                           0.43      3294\n",
      "   macro avg       0.51      0.55      0.33      3294\n",
      "weighted avg       0.93      0.43      0.56      3294\n",
      " \n",
      "\n",
      "\n",
      "pred Sayfullin \n",
      "               precision    recall  f1-score   support\n",
      "\n",
      "           0       0.98      0.47      0.64      3160\n",
      "           1       0.06      0.78      0.11       134\n",
      "\n",
      "    accuracy                           0.48      3294\n",
      "   macro avg       0.52      0.62      0.37      3294\n",
      "weighted avg       0.94      0.48      0.62      3294\n",
      " \n",
      "\n",
      "\n",
      "pred Chesser \n",
      "               precision    recall  f1-score   support\n",
      "\n",
      "           0       0.99      0.92      0.95      3160\n",
      "           1       0.28      0.73      0.40       134\n",
      "\n",
      "    accuracy                           0.91      3294\n",
      "   macro avg       0.63      0.83      0.68      3294\n",
      "weighted avg       0.96      0.91      0.93      3294\n",
      " \n",
      "\n",
      "\n",
      "pred PD J \n",
      "               precision    recall  f1-score   support\n",
      "\n",
      "           0       0.98      0.82      0.89      3160\n",
      "           1       0.11      0.53      0.18       134\n",
      "\n",
      "    accuracy                           0.81      3294\n",
      "   macro avg       0.54      0.67      0.54      3294\n",
      "weighted avg       0.94      0.81      0.86      3294\n",
      " \n",
      "\n",
      "\n"
     ]
    }
   ],
   "source": [
    "for i in listPred:\n",
    "    pred = df[i]\n",
    "    pred = pred.to_numpy()\n",
    "    print(\n",
    "        i[:14],\n",
    "        '\\n',\n",
    "        classification_report(fact, pred),\n",
    "        '\\n\\n'\n",
    "    )"
   ]
  },
  {
   "cell_type": "markdown",
   "id": "67012e28",
   "metadata": {},
   "source": [
    "## Корреляция показателей"
   ]
  },
  {
   "cell_type": "markdown",
   "id": "7f6bfb9a",
   "metadata": {},
   "source": [
    "### Коэффицентов"
   ]
  },
  {
   "cell_type": "code",
   "execution_count": 8,
   "id": "550dc2aa",
   "metadata": {},
   "outputs": [
    {
     "data": {
      "text/plain": [
       "bad days                                                              1.000000\n",
       "fact                                                                  0.874293\n",
       "cf total_noncurrent_liabilities rate                                  0.160578\n",
       "cf total_liabilities on total_assets                                  0.119380\n",
       "cf total_liabilities on total_equity_and_liabilities                  0.118113\n",
       "cf tangible assets log10 rate                                         0.076971\n",
       "cf 6000 on cash and stocks                                            0.017263\n",
       "cf total_current_liabilities on total_assets                          0.013914\n",
       "cf currentRatioAltman                                                 0.009000\n",
       "cf total_current_liabilities rate                                     0.001266\n",
       "cf currentRatio                                                      -0.030672\n",
       "cf workingCapital on EBIT                                            -0.043716\n",
       "cf OPL / 6000                                                        -0.053311\n",
       "cf netProfit on total_equity                                         -0.065933\n",
       "cf workingCapital on liabilities                                     -0.070901\n",
       "cf EBIT/interest log10                                               -0.076501\n",
       "cf PBT on total_equity                                               -0.077725\n",
       "cf ATR                                                               -0.083665\n",
       "cf 6000 / Assets                                                     -0.083665\n",
       "cf netProfit on liabilities                                          -0.083966\n",
       "cf workingCapital on total_assets                                    -0.085319\n",
       "cf OPL on liabilities                                                -0.089305\n",
       "cf OPL on total_assets                                               -0.095327\n",
       "cf EBIT on current_liabilities                                       -0.096650\n",
       "cf OPL on total_equity                                               -0.103216\n",
       "cf OPL / Equity                                                      -0.103216\n",
       "cf EBIT on total_assets                                              -0.104602\n",
       "cf cash and stocks / assets                                          -0.105392\n",
       "cf total_current_assets on total_liabilities                         -0.116782\n",
       "cf netProfit on expenses                                             -0.121611\n",
       "cf PBT on COGS                                                       -0.124335\n",
       "cf (total_equity - total_noncurrent_assets) / total_current_assets   -0.127814\n",
       "cf accounts receivable on total_liabilities                          -0.131063\n",
       "cf ROA                                                               -0.138181\n",
       "cf PBT on total_assets                                               -0.153349\n",
       "cf (total_equity - intangibleAssets) / total_liabilities             -0.162400\n",
       "cf total_equity on total_liabilities                                 -0.165571\n",
       "cf total_equity on treasury_stock                                    -0.198351\n",
       "cf retainedEarnings                                                  -0.216247\n",
       "Name: bad days, dtype: float64"
      ]
     },
     "execution_count": 8,
     "metadata": {},
     "output_type": "execute_result"
    }
   ],
   "source": [
    "listCf = [c for c in df.columns if c.lower()[:2] == 'cf']\n",
    "newdf = pd.DataFrame()\n",
    "for i in listCf:\n",
    "    newdf[i] = df[i]\n",
    "    \n",
    "for cat in newdf:\n",
    "    quantileCat = newdf[cat].quantile(.75)\n",
    "    quantileCatNegative = quantileCat*-1\n",
    "    newdf.loc[newdf[cat] > quantileCat, cat] = quantileCat\n",
    "    newdf.loc[newdf[cat] < quantileCatNegative, cat] = quantileCatNegative\n",
    "    \n",
    "newdf['fact'] = df['fact bad']\n",
    "newdf['bad days'] = df['Макс просрочка']\n",
    "newdf = newdf.drop(columns=['cf workingCapital', 'cf tangible assets', 'cf netLoss'])\n",
    "corr_matrix = newdf.corr()\n",
    "corr_matrix['bad days'].sort_values(ascending=False)"
   ]
  },
  {
   "cell_type": "markdown",
   "id": "d62a142c",
   "metadata": {},
   "source": [
    "### Баллов моделей"
   ]
  },
  {
   "cell_type": "code",
   "execution_count": 9,
   "id": "109f88cc",
   "metadata": {},
   "outputs": [
    {
     "data": {
      "text/plain": [
       "bad days                     1.000000\n",
       "fact                         0.874293\n",
       "P-score Chesser              0.293912\n",
       "PD J                         0.167252\n",
       "Z-score J-model              0.138492\n",
       "Z-score Lis                  0.019909\n",
       "Z-score Altman 5x            0.013043\n",
       "Z-score Springate            0.006059\n",
       "Z-score Altman 2x            0.003265\n",
       "R-score Sayfullin-Kadykov    0.001066\n",
       "R-score ИГЭА                -0.003398\n",
       "Z-score Tafler              -0.006682\n",
       "H-score Fulmer              -0.085980\n",
       "Name: bad days, dtype: float64"
      ]
     },
     "execution_count": 9,
     "metadata": {},
     "output_type": "execute_result"
    }
   ],
   "source": [
    "listModel = [col for col in df.columns if 'score' in col]\n",
    "newdf2 = pd.DataFrame()\n",
    "for i in listModel:\n",
    "    newdf2[i] = df[i]\n",
    "newdf2['fact'] = df['fact bad']\n",
    "newdf2['bad days'] = df['Макс просрочка']\n",
    "newdf2['PD J'] = df['Модель PD J']\n",
    "corr_matrix2 = newdf2.corr()\n",
    "corr_matrix2['bad days'].sort_values(ascending=False)"
   ]
  },
  {
   "cell_type": "code",
   "execution_count": 10,
   "id": "baf374c8",
   "metadata": {},
   "outputs": [
    {
     "name": "stdout",
     "output_type": "stream",
     "text": [
      "0 index\n",
      "1 kind\n",
      "2 Макс просрочка\n",
      "3 name\n",
      "4 date\n",
      "5 1000\n",
      "6 1100\n",
      "7 1200\n",
      "8 1300\n",
      "9 1400\n",
      "10 1500\n",
      "11 1600\n",
      "12 1700\n",
      "13 2000\n",
      "14 2100\n",
      "15 2200\n",
      "16 2300\n",
      "17 2400\n",
      "18 2500\n",
      "19 2600\n",
      "20 2700\n",
      "21 2800\n",
      "22 2900\n",
      "23 3000\n",
      "24 3100\n",
      "25 3200\n",
      "26 3300\n",
      "27 3400\n",
      "28 3500\n",
      "29 4000\n",
      "30 4100\n",
      "31 4200\n",
      "32 4300\n",
      "33 4400\n",
      "34 5000\n",
      "35 5100\n",
      "36 5200\n",
      "37 5300\n",
      "38 5400\n",
      "39 5500\n",
      "40 5600\n",
      "41 5700\n",
      "42 6000\n",
      "43 6100\n",
      "44 6200\n",
      "45 6300\n",
      "46 6400\n",
      "47 7000\n",
      "48 7100\n",
      "49 7200\n",
      "50 7300\n",
      "51 7400\n",
      "52 7500\n",
      "53 7600\n",
      "54 7700\n",
      "55 9100\n",
      "56 9200\n",
      "57 9300\n",
      "58 9400\n",
      "59 9500\n",
      "60 id\n",
      "61 Unnamed: 0\n",
      "62 id_raw\n",
      "63 type\n",
      "64 fact bad\n",
      "65 fact good\n",
      "66 date sys\n",
      "67 data days\n",
      "68 near year\n",
      "69 annualizer\n",
      "70 total_current_assets\n",
      "71 total_noncurrent_assets\n",
      "72 total_assets\n",
      "73 total_current_liabilities\n",
      "74 total_noncurrent_liabilities\n",
      "75 total_equity\n",
      "76 total_liabilities\n",
      "77 total_equity_and_liabilities\n",
      "78 gross_profit\n",
      "79 operating_profit_or_loss\n",
      "80 EBITDA\n",
      "81 profit_or_loss_before_income_tax\n",
      "82 EBIT\n",
      "83 net_profit_or_loss\n",
      "84 cf currentRatio\n",
      "85 cf currentRatioAltman\n",
      "86 cf total_liabilities on total_equity_and_liabilities\n",
      "87 cf workingCapital\n",
      "88 cf workingCapital on total_assets\n",
      "89 cf workingCapital on liabilities\n",
      "90 cf ROA\n",
      "91 cf PBT on total_assets\n",
      "92 cf PBT on total_equity\n",
      "93 cf ATR\n",
      "94 cf total_equity on total_liabilities\n",
      "95 cf OPL on liabilities\n",
      "96 cf total_current_assets on total_liabilities\n",
      "97 cf total_current_liabilities on total_assets\n",
      "98 cf EBIT on total_assets\n",
      "99 cf EBIT on current_liabilities\n",
      "100 cf netProfit on total_equity\n",
      "101 cf netProfit on expenses\n",
      "102 cf netProfit on liabilities\n",
      "103 cf OPL on total_assets\n",
      "104 cf netLoss\n",
      "105 cf retainedEarnings\n",
      "106 cf total_noncurrent_liabilities rate\n",
      "107 cf total_current_liabilities rate\n",
      "108 cf tangible assets\n",
      "109 cf tangible assets log10 rate\n",
      "110 cf EBIT/interest log10\n",
      "111 cf (total_equity - total_noncurrent_assets) / total_current_assets\n",
      "112 cf 6000 / Assets\n",
      "113 cf OPL / 6000\n",
      "114 cf OPL / Equity\n",
      "115 cf (total_equity - intangibleAssets) / total_liabilities\n",
      "116 cf accounts receivable on total_liabilities\n",
      "117 cf PBT on COGS\n",
      "118 cf OPL on total_equity\n",
      "119 cf cash and stocks / assets\n",
      "120 cf 6000 on cash and stocks\n",
      "121 cf total_liabilities on total_assets\n",
      "122 cf total_equity on treasury_stock\n",
      "123 cf workingCapital on EBIT\n",
      "124 Z-score Altman 2x\n",
      "125 Модель Альтмана 2х\n",
      "126 pred Altman 2x\n",
      "127 Z-score Altman 5x\n",
      "128 Модель Альтмана 5х\n",
      "129 pred Altman 5x\n",
      "130 Z-score Tafler\n",
      "131 Модель Таффлера-Тишоу\n",
      "132 pred Tafler\n",
      "133 H-score Fulmer\n",
      "134 Модель Фулмера\n",
      "135 pred Fulmer\n",
      "136 Z-score Springate\n",
      "137 Модель Спрингейта\n",
      "138 pred Springate\n",
      "139 R-score ИГЭА\n",
      "140 Модель ИГЭА\n",
      "141 pred IGEA\n",
      "142 Z-score Lis\n",
      "143 Модель Лиса\n",
      "144 pred Lis\n",
      "145 R-score Sayfullin-Kadykov\n",
      "146 Модель Сайфуллина-Кадыкова\n",
      "147 pred Sayfullin-Kadykov\n",
      "148 Z Chesser\n",
      "149 P-score Chesser\n",
      "150 Модель Чессера\n",
      "151 pred Chesser\n",
      "152 Z-score J-model\n",
      "153 Модель PD J\n",
      "154 pred PD J\n"
     ]
    }
   ],
   "source": [
    "c = -1\n",
    "for i in df:\n",
    "    c += 1\n",
    "    print(c, i)"
   ]
  },
  {
   "cell_type": "code",
   "execution_count": 11,
   "id": "3c3016c8",
   "metadata": {},
   "outputs": [
    {
     "data": {
      "text/plain": [
       "bad days    1.000000\n",
       "fact        0.874293\n",
       "fact bad    0.874293\n",
       "3100        0.081962\n",
       "9200        0.056234\n",
       "              ...   \n",
       "5700             NaN\n",
       "6400             NaN\n",
       "7500             NaN\n",
       "9400             NaN\n",
       "9500             NaN\n",
       "Name: bad days, Length: 69, dtype: float64"
      ]
     },
     "execution_count": 11,
     "metadata": {},
     "output_type": "execute_result"
    }
   ],
   "source": [
    "dfcon1 = df.iloc[:,5:60]\n",
    "dfcon2 = df.iloc[:,63:77]\n",
    "dfFin = pd.concat([dfcon1, dfcon2], axis=1)\n",
    "dfFin\n",
    "\n",
    "dfFin['fact'] = df['fact bad']\n",
    "dfFin['bad days'] = df['Макс просрочка']\n",
    "corr_matrix2 = dfFin.corr()\n",
    "corr_matrix2['bad days'].sort_values(ascending=False)"
   ]
  }
 ],
 "metadata": {
  "kernelspec": {
   "display_name": "Python 3 (ipykernel)",
   "language": "python",
   "name": "python3"
  },
  "language_info": {
   "codemirror_mode": {
    "name": "ipython",
    "version": 3
   },
   "file_extension": ".py",
   "mimetype": "text/x-python",
   "name": "python",
   "nbconvert_exporter": "python",
   "pygments_lexer": "ipython3",
   "version": "3.9.12"
  }
 },
 "nbformat": 4,
 "nbformat_minor": 5
}
